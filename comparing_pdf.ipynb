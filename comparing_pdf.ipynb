{
 "cells": [
  {
   "cell_type": "code",
   "execution_count": 1,
   "id": "bc21953b-c964-43f0-8a77-80bceb6b510c",
   "metadata": {
    "tags": []
   },
   "outputs": [
    {
     "name": "stdout",
     "output_type": "stream",
     "text": [
      "1. Dominique Henry  \n",
      "2. Lynda Rose  \n",
      "3. Tanya Rush  \n",
      "4. Lilly Horne  \n",
      "5. Georgina Ward  \n",
      "6. Yvonne Nash  \n",
      "7. Porter Mcfarland  \n",
      "8. Johnnie Edwards  \n",
      "9. Annmarie Graves  \n",
      "10. Blanche Robles  \n",
      "11. Marietta Gordon  \n",
      "12. Zack Stein  \n",
      "13. Henrietta Valenzuela  \n",
      "14. Arturo Singh  \n",
      "15. Tiffany Turner  \n",
      "16. Alexandra Walker  \n",
      "17. Shane Webster  \n",
      "18. Waldo Ayala  \n",
      "19. J. Horn  \n",
      "20. Jorge Hardin  \n",
      "21. Kirby Barton  \n",
      "22. Maryann Pacheco  \n",
      "23. Felton Escobar  \n",
      "24. Titus Randall  \n",
      "25. Deandre Burgess  \n",
      "26. Micheal Roy  \n",
      "27. Major Ritter  \n"
     ]
    }
   ],
   "source": [
    "# importing required modules\n",
    "from PyPDF2 import PdfReader\n",
    "\n",
    "# creating a pdf reader object\n",
    "reader = PdfReader('pdf_a.pdf')\n",
    "\n",
    "# printing number of pages in pdf file\n",
    "# print(len(reader.pages))\n",
    "\n",
    "# getting a specific page from the pdf file\n",
    "page = reader.pages[0]\n",
    "\n",
    "# extracting text from page\n",
    "text = page.extract_text()\n",
    "text_a = text\n",
    "\n",
    "# splitting text into a list of words\n",
    "word_lista = text.split()\n",
    "\n",
    "print(text)"
   ]
  },
  {
   "cell_type": "code",
   "execution_count": 2,
   "id": "c0e97f79-efd4-4551-8041-59ed6b295f13",
   "metadata": {
    "tags": []
   },
   "outputs": [
    {
     "name": "stdout",
     "output_type": "stream",
     "text": [
      "1. Dominique Henry  \n",
      "2. Lynda Rose  \n",
      "3. Tanya Rush  \n",
      "4. Lilly Horne  \n",
      "5. Georgina Ward  \n",
      "6. Yvonne Nash  \n",
      "7. Porter Mcfarland  \n",
      "8. Johnnie Edwards  \n",
      "9. Annmarie Graves  \n",
      "10. Blanche Robles  \n",
      "11. Marietta Gordon  \n",
      "12. Zack Stein  \n",
      "13. Henrietta Valenzuela  \n",
      "14. Arturo Singh  \n",
      "15. Tiffany J. Turner  \n",
      "16. Alexandra Walker  \n",
      "17. Shane Webster  \n",
      "18. Waldo Ayala  \n",
      "19. Jeffrey Horn  \n",
      "20. Jorge Hardin  \n",
      "21. Kirby Barton  \n",
      "22. Maryann Pacheco  \n",
      "23. Felton Escobar  \n",
      "24. Titus Randall  \n",
      "25. Deandre Burgess  \n",
      "26. Micheal Roy  \n",
      "27. Major Ritter  \n"
     ]
    }
   ],
   "source": [
    "# importing required modules\n",
    "from PyPDF2 import PdfReader\n",
    "\n",
    "# creating a pdf reader object\n",
    "reader = PdfReader('pdf_b.pdf')\n",
    "\n",
    "# printing number of pages in pdf file\n",
    "# print(len(reader.pages))\n",
    "\n",
    "# getting a specific page from the pdf file\n",
    "page = reader.pages[0]\n",
    "\n",
    "# extracting text from page\n",
    "text = page.extract_text()\n",
    "text_b = text\n",
    "\n",
    "# splitting text into a list of words\n",
    "word_listb = text.split()\n",
    "\n",
    "print(text)"
   ]
  },
  {
   "cell_type": "code",
   "execution_count": 3,
   "id": "765e28d1-230a-43d4-93f6-659147f5e222",
   "metadata": {
    "tags": []
   },
   "outputs": [],
   "source": [
    "import useful_functions as uf"
   ]
  },
  {
   "cell_type": "code",
   "execution_count": 4,
   "id": "7c35c4c3-4897-4487-a586-3103deb6f999",
   "metadata": {
    "tags": []
   },
   "outputs": [
    {
     "name": "stdout",
     "output_type": "stream",
     "text": [
      "Items not in first list:\n",
      "Index - Item\n",
      "57  -  Jeffrey\n",
      "--------------------------------------------------\n",
      "Items not in second list:\n",
      "Index - Item\n"
     ]
    }
   ],
   "source": [
    "uf.compare_lists(word_lista, word_listb)"
   ]
  },
  {
   "cell_type": "code",
   "execution_count": 5,
   "id": "af780ad3-6502-4b69-b5c8-e491844f8d07",
   "metadata": {
    "tags": []
   },
   "outputs": [
    {
     "name": "stdout",
     "output_type": "stream",
     "text": [
      "Items not in first list:\n",
      "Index - Item\n",
      "--------------------------------------------------\n",
      "Items not in second list:\n",
      "Index - Item\n",
      "57  -  Jeffrey\n"
     ]
    }
   ],
   "source": [
    "uf.compare_lists(word_listb, word_lista)"
   ]
  },
  {
   "cell_type": "code",
   "execution_count": 6,
   "id": "db3cfada-37fc-47f8-9b0f-7b4276ca1777",
   "metadata": {
    "tags": []
   },
   "outputs": [
    {
     "data": {
      "text/plain": [
       "['1.',\n",
       " 'Dominique',\n",
       " 'Henry',\n",
       " '2.',\n",
       " 'Lynda',\n",
       " 'Rose',\n",
       " '3.',\n",
       " 'Tanya',\n",
       " 'Rush',\n",
       " '4.',\n",
       " 'Lilly',\n",
       " 'Horne',\n",
       " '5.',\n",
       " 'Georgina',\n",
       " 'Ward',\n",
       " '6.',\n",
       " 'Yvonne',\n",
       " 'Nash',\n",
       " '7.',\n",
       " 'Porter',\n",
       " 'Mcfarland',\n",
       " '8.',\n",
       " 'Johnnie',\n",
       " 'Edwards',\n",
       " '9.',\n",
       " 'Annmarie',\n",
       " 'Graves',\n",
       " '10.',\n",
       " 'Blanche',\n",
       " 'Robles',\n",
       " '11.',\n",
       " 'Marietta',\n",
       " 'Gordon',\n",
       " '12.',\n",
       " 'Zack',\n",
       " 'Stein',\n",
       " '13.',\n",
       " 'Henrietta',\n",
       " 'Valenzuela',\n",
       " '14.',\n",
       " 'Arturo',\n",
       " 'Singh',\n",
       " '15.',\n",
       " 'Tiffany',\n",
       " 'Turner',\n",
       " '16.',\n",
       " 'Alexandra',\n",
       " 'Walker',\n",
       " '17.',\n",
       " 'Shane',\n",
       " 'Webster',\n",
       " '18.',\n",
       " 'Waldo',\n",
       " 'Ayala',\n",
       " '19.',\n",
       " 'J.',\n",
       " 'Horn',\n",
       " '20.',\n",
       " 'Jorge',\n",
       " 'Hardin',\n",
       " '21.',\n",
       " 'Kirby',\n",
       " 'Barton',\n",
       " '22.',\n",
       " 'Maryann',\n",
       " 'Pacheco',\n",
       " '23.',\n",
       " 'Felton',\n",
       " 'Escobar',\n",
       " '24.',\n",
       " 'Titus',\n",
       " 'Randall',\n",
       " '25.',\n",
       " 'Deandre',\n",
       " 'Burgess',\n",
       " '26.',\n",
       " 'Micheal',\n",
       " 'Roy',\n",
       " '27.',\n",
       " 'Major',\n",
       " 'Ritter']"
      ]
     },
     "execution_count": 6,
     "metadata": {},
     "output_type": "execute_result"
    }
   ],
   "source": [
    "word_lista"
   ]
  },
  {
   "cell_type": "code",
   "execution_count": 7,
   "id": "85019eb8-cb1e-48f1-96a9-23d661d7f342",
   "metadata": {},
   "outputs": [],
   "source": [
    "import PyPDF2\n",
    "\n",
    "# creating a pdf reader object\n",
    "reader = PyPDF2.PdfFileReader('pdf_b.pdf')\n",
    "\n",
    "# creating a text file\n",
    "with open('text_b.txt', 'w') as f:\n",
    "    # iterating through each page of the pdf file\n",
    "    for i in range(reader.getNumPages()):\n",
    "        # getting the page object\n",
    "        page = reader.getPage(i)\n",
    "        # extracting text from page\n",
    "        text = page.extractText()\n",
    "        # writing the text to the file\n",
    "        f.write(text)"
   ]
  },
  {
   "cell_type": "code",
   "execution_count": 8,
   "id": "09232561-895e-49f5-aa3b-db097918503f",
   "metadata": {},
   "outputs": [],
   "source": [
    "import PyPDF2\n",
    "\n",
    "# creating a pdf reader object\n",
    "reader = PyPDF2.PdfFileReader('pdf_a.pdf')\n",
    "\n",
    "# creating a text file\n",
    "with open('text_a.txt', 'w') as f:\n",
    "    # iterating through each page of the pdf file\n",
    "    for i in range(reader.getNumPages()):\n",
    "        # getting the page object\n",
    "        page = reader.getPage(i)\n",
    "        # extracting text from page\n",
    "        text = page.extractText()\n",
    "        # writing the text to the file\n",
    "        f.write(text)\n"
   ]
  },
  {
   "cell_type": "code",
   "execution_count": 9,
   "id": "0643e8c2-997a-4e8e-bbef-31590ef73ae9",
   "metadata": {},
   "outputs": [
    {
     "name": "stdout",
     "output_type": "stream",
     "text": [
      "Sleeping\n"
     ]
    }
   ],
   "source": [
    "import time\n",
    "print('Sleeping')\n",
    "time.sleep(1.7)"
   ]
  },
  {
   "cell_type": "code",
   "execution_count": 21,
   "id": "2943aa72-fcc8-4b18-b1c2-42783474616a",
   "metadata": {
    "tags": []
   },
   "outputs": [
    {
     "name": "stdout",
     "output_type": "stream",
     "text": [
      "False\n",
      "False\n"
     ]
    }
   ],
   "source": [
    "import filecmp\n",
    "\n",
    "f1 = 'text_a.txt'\n",
    "f2 = 'text_b.txt'\n",
    "\n",
    "# shallow comparison\n",
    "result = filecmp.cmp(f1, f2)\n",
    "print(result)\n",
    "# deep comparison\n",
    "result = filecmp.cmp(f1, f2, shallow=False)\n",
    "print(result)"
   ]
  },
  {
   "cell_type": "code",
   "execution_count": 11,
   "id": "f9d4ee22-02d9-4cae-931e-ef0525d0624a",
   "metadata": {
    "tags": []
   },
   "outputs": [
    {
     "data": {
      "text/plain": [
       "str"
      ]
     },
     "execution_count": 11,
     "metadata": {},
     "output_type": "execute_result"
    }
   ],
   "source": [
    "type(text_b)"
   ]
  },
  {
   "cell_type": "code",
   "execution_count": 23,
   "id": "5db4d13a-58d7-40cb-87c0-60167c57a4b8",
   "metadata": {
    "tags": []
   },
   "outputs": [
    {
     "ename": "SyntaxError",
     "evalue": "invalid syntax (2946205514.py, line 17)",
     "output_type": "error",
     "traceback": [
      "\u001b[1;36m  Cell \u001b[1;32mIn[23], line 17\u001b[1;36m\u001b[0m\n\u001b[1;33m    else:\u001b[0m\n\u001b[1;37m    ^\u001b[0m\n\u001b[1;31mSyntaxError\u001b[0m\u001b[1;31m:\u001b[0m invalid syntax\n"
     ]
    }
   ],
   "source": [
    "# reading files\n",
    "f1 = open(f1, \"r\")\n",
    "f2 = open(f2, \"r\")\n",
    "\n",
    "f1_data = f1.readlines()\n",
    "f2_data = f2.readlines()\n",
    "\n",
    "i = 0\n",
    "\n",
    "for line1 in f1_data:\n",
    "    i += 1\n",
    "    f2_data = f2.readlines()\n",
    "    for line2 in f2_data:\n",
    "        # matching line1 from both filesif line1 == line2:\n",
    "        # print IDENTICAL if similar\n",
    "        print(\"Line \", i, \": IDENTICAL\")\t\n",
    "        else:\n",
    "            print(\"Line \", i, \":\")\n",
    "            # else print that line from both files\n",
    "            print(\"\\tFile 1:\", line1, end='')\n",
    "            print(\"\\tFile 2:\", line2, end='')\n",
    "        break\n",
    "\n",
    "# closing files\n",
    "f1.close()\n",
    "f2.close()"
   ]
  },
  {
   "cell_type": "code",
   "execution_count": 18,
   "id": "8b45a364-a6f7-41c2-8c3a-48062b00faba",
   "metadata": {
    "tags": []
   },
   "outputs": [
    {
     "ename": "TypeError",
     "evalue": "expected str, bytes or os.PathLike object, not TextIOWrapper",
     "output_type": "error",
     "traceback": [
      "\u001b[1;31m---------------------------------------------------------------------------\u001b[0m",
      "\u001b[1;31mTypeError\u001b[0m                                 Traceback (most recent call last)",
      "Cell \u001b[1;32mIn[18], line 2\u001b[0m\n\u001b[0;32m      1\u001b[0m \u001b[38;5;66;03m# reading files\u001b[39;00m\n\u001b[1;32m----> 2\u001b[0m f1 \u001b[38;5;241m=\u001b[39m \u001b[38;5;28;43mopen\u001b[39;49m\u001b[43m(\u001b[49m\u001b[43mf1\u001b[49m\u001b[43m,\u001b[49m\u001b[43m \u001b[49m\u001b[38;5;124;43m\"\u001b[39;49m\u001b[38;5;124;43mr\u001b[39;49m\u001b[38;5;124;43m\"\u001b[39;49m\u001b[43m)\u001b[49m\n\u001b[0;32m      3\u001b[0m f2 \u001b[38;5;241m=\u001b[39m \u001b[38;5;28mopen\u001b[39m(f2, \u001b[38;5;124m\"\u001b[39m\u001b[38;5;124mr\u001b[39m\u001b[38;5;124m\"\u001b[39m)\n\u001b[0;32m      5\u001b[0m f1_data \u001b[38;5;241m=\u001b[39m f1\u001b[38;5;241m.\u001b[39mreadlines()\n",
      "File \u001b[1;32m~\\anaconda3\\lib\\site-packages\\IPython\\core\\interactiveshell.py:284\u001b[0m, in \u001b[0;36m_modified_open\u001b[1;34m(file, *args, **kwargs)\u001b[0m\n\u001b[0;32m    277\u001b[0m \u001b[38;5;28;01mif\u001b[39;00m file \u001b[38;5;129;01min\u001b[39;00m {\u001b[38;5;241m0\u001b[39m, \u001b[38;5;241m1\u001b[39m, \u001b[38;5;241m2\u001b[39m}:\n\u001b[0;32m    278\u001b[0m     \u001b[38;5;28;01mraise\u001b[39;00m \u001b[38;5;167;01mValueError\u001b[39;00m(\n\u001b[0;32m    279\u001b[0m         \u001b[38;5;124mf\u001b[39m\u001b[38;5;124m\"\u001b[39m\u001b[38;5;124mIPython won\u001b[39m\u001b[38;5;124m'\u001b[39m\u001b[38;5;124mt let you open fd=\u001b[39m\u001b[38;5;132;01m{\u001b[39;00mfile\u001b[38;5;132;01m}\u001b[39;00m\u001b[38;5;124m by default \u001b[39m\u001b[38;5;124m\"\u001b[39m\n\u001b[0;32m    280\u001b[0m         \u001b[38;5;124m\"\u001b[39m\u001b[38;5;124mas it is likely to crash IPython. If you know what you are doing, \u001b[39m\u001b[38;5;124m\"\u001b[39m\n\u001b[0;32m    281\u001b[0m         \u001b[38;5;124m\"\u001b[39m\u001b[38;5;124myou can use builtins\u001b[39m\u001b[38;5;124m'\u001b[39m\u001b[38;5;124m open.\u001b[39m\u001b[38;5;124m\"\u001b[39m\n\u001b[0;32m    282\u001b[0m     )\n\u001b[1;32m--> 284\u001b[0m \u001b[38;5;28;01mreturn\u001b[39;00m io_open(file, \u001b[38;5;241m*\u001b[39margs, \u001b[38;5;241m*\u001b[39m\u001b[38;5;241m*\u001b[39mkwargs)\n",
      "\u001b[1;31mTypeError\u001b[0m: expected str, bytes or os.PathLike object, not TextIOWrapper"
     ]
    }
   ],
   "source": [
    "# reading files\n",
    "f1 = open(f1, \"r\")\n",
    "f2 = open(f2, \"r\")\n",
    "\n",
    "f1_data = f1.readlines()\n",
    "f2_data = f2.readlines()\n",
    "\n",
    "i = 0\n",
    "\n",
    "for line1 in f1_data:\n",
    "    i += 1\n",
    "    f2_data = f2.readlines()\n",
    "    for line2 in f2_data:\n",
    "        # matching line1 from both files\n",
    "        if line1 == line2:\n",
    "            # print IDENTICAL if similar\n",
    "            print(\"Line \", i, \": IDENTICAL\")\n",
    "        else:\n",
    "            print(\"Line \", i, \":\")\n",
    "            # else print that line from both files\n",
    "            print(\"\\tFile 1:\", line1, end='')\n",
    "            print(\"\\tFile 2:\", line2, end='')\n",
    "        break\n",
    "\n",
    "# closing files\n",
    "f1.close()\t\t\t\t\t\t\t\t\t\n",
    "f2.close()\t"
   ]
  },
  {
   "cell_type": "code",
   "execution_count": 27,
   "id": "c4db3754-2253-43ac-bf81-0958c0dabda7",
   "metadata": {
    "tags": []
   },
   "outputs": [
    {
     "name": "stdout",
     "output_type": "stream",
     "text": [
      "Line  1 : IDENTICAL\n"
     ]
    }
   ],
   "source": [
    "# reading files\n",
    "f1 = open('text_a.txt', 'r')\n",
    "f2 = open('text_b.txt', 'r')\n",
    "\n",
    "f1_data = f1.readlines()\n",
    "# f2_data = f2.readlines()\n",
    "\n",
    "i = 0\n",
    "\n",
    "for line1 in f1_data:\n",
    "    i += 1\n",
    "    f2_data = f2.readlines()\n",
    "    for line2 in f2_data:\n",
    "        # matching line1 from both files\n",
    "        if line1 == line2:\n",
    "            # print IDENTICAL if similar\n",
    "            print(\"Line \", i, \": IDENTICAL\")    \n",
    "        else:\n",
    "            print(\"Line \", i, \":\")\n",
    "            # else print that line from both files\n",
    "            print(\"\\tFile 1:\", line1, end='')\n",
    "            print(\"\\tFile 2:\", line2, end='')\n",
    "        break\n",
    "\n",
    "# closing files\n",
    "f1.close()                                    \n",
    "f2.close()"
   ]
  },
  {
   "cell_type": "code",
   "execution_count": 33,
   "id": "1044f0eb-3f07-49f5-a95c-fe28afbf4e05",
   "metadata": {
    "tags": []
   },
   "outputs": [
    {
     "name": "stdout",
     "output_type": "stream",
     "text": [
      "Line  0 : IDENTICAL\n",
      "Line  0 :\n",
      "\tFile 1: 1. Dominique Henry  \n",
      "\tFile 2: 2. Lynda Rose  \n",
      "Line  0 :\n",
      "\tFile 1: 1. Dominique Henry  \n",
      "\tFile 2: 3. Tanya Rush  \n",
      "Line  0 :\n",
      "\tFile 1: 1. Dominique Henry  \n",
      "\tFile 2: 4. Lilly Horne  \n",
      "Line  0 :\n",
      "\tFile 1: 1. Dominique Henry  \n",
      "\tFile 2: 5. Georgina Ward  \n",
      "Line  0 :\n",
      "\tFile 1: 1. Dominique Henry  \n",
      "\tFile 2: 6. Yvonne Nash  \n",
      "Line  0 :\n",
      "\tFile 1: 1. Dominique Henry  \n",
      "\tFile 2: 7. Porter Mcfarland  \n",
      "Line  0 :\n",
      "\tFile 1: 1. Dominique Henry  \n",
      "\tFile 2: 8. Johnnie Edwards  \n",
      "Line  0 :\n",
      "\tFile 1: 1. Dominique Henry  \n",
      "\tFile 2: 9. Annmarie Graves  \n",
      "Line  0 :\n",
      "\tFile 1: 1. Dominique Henry  \n",
      "\tFile 2: 10. Blanche Robles  \n",
      "Line  0 :\n",
      "\tFile 1: 1. Dominique Henry  \n",
      "\tFile 2: 11. Marietta Gordon  \n",
      "Line  0 :\n",
      "\tFile 1: 1. Dominique Henry  \n",
      "\tFile 2: 12. Zack Stein  \n",
      "Line  0 :\n",
      "\tFile 1: 1. Dominique Henry  \n",
      "\tFile 2: 13. Henrietta Valenzuela  \n",
      "Line  0 :\n",
      "\tFile 1: 1. Dominique Henry  \n",
      "\tFile 2: 14. Arturo Singh  \n",
      "Line  0 :\n",
      "\tFile 1: 1. Dominique Henry  \n",
      "\tFile 2: 15. Tiffany J. Turner  \n",
      "Line  0 :\n",
      "\tFile 1: 1. Dominique Henry  \n",
      "\tFile 2: 16. Alexandra Walker  \n",
      "Line  0 :\n",
      "\tFile 1: 1. Dominique Henry  \n",
      "\tFile 2: 17. Shane Webster  \n",
      "Line  0 :\n",
      "\tFile 1: 1. Dominique Henry  \n",
      "\tFile 2: 18. Waldo Ayala  \n",
      "Line  0 :\n",
      "\tFile 1: 1. Dominique Henry  \n",
      "\tFile 2: 19. Jeffrey Horn  \n",
      "Line  0 :\n",
      "\tFile 1: 1. Dominique Henry  \n",
      "\tFile 2: 20. Jorge Hardin  \n",
      "Line  0 :\n",
      "\tFile 1: 1. Dominique Henry  \n",
      "\tFile 2: 21. Kirby Barton  \n",
      "Line  0 :\n",
      "\tFile 1: 1. Dominique Henry  \n",
      "\tFile 2: 22. Maryann Pacheco  \n",
      "Line  0 :\n",
      "\tFile 1: 1. Dominique Henry  \n",
      "\tFile 2: 23. Felton Escobar  \n",
      "Line  0 :\n",
      "\tFile 1: 1. Dominique Henry  \n",
      "\tFile 2: 24. Titus Randall  \n",
      "Line  0 :\n",
      "\tFile 1: 1. Dominique Henry  \n",
      "\tFile 2: 25. Deandre Burgess  \n",
      "Line  0 :\n",
      "\tFile 1: 1. Dominique Henry  \n",
      "\tFile 2: 26. Micheal Roy  \n",
      "Line  0 :\n",
      "\tFile 1: 1. Dominique Henry  \n",
      "\tFile 2: 27. Major Ritter   "
     ]
    }
   ],
   "source": [
    "# reading files\n",
    "f1 = open('text_a.txt', 'r')\n",
    "f2 = open('text_b.txt', 'r')\n",
    "\n",
    "f1_data = f1.readlines()\n",
    "\n",
    "\n",
    "for i in range(len(f1_data)):\n",
    "    for line1 in f1_data:\n",
    "        f2_data = f2.readlines()\n",
    "        for line2 in f2_data:\n",
    "            # matching line1 from both files\n",
    "            if line1 == line2:\n",
    "                # print IDENTICAL if similar\n",
    "                print(\"Line \", i, \": IDENTICAL\")    \n",
    "            else:\n",
    "                print(\"Line \", i, \":\")\n",
    "                # else print that line from both files\n",
    "                print(\"\\tFile 1:\", line1, end='')\n",
    "                print(\"\\tFile 2:\", line2, end='')\n",
    "\n",
    "\n",
    "# closing files\n",
    "f1.close()                                    \n",
    "f2.close()"
   ]
  },
  {
   "cell_type": "code",
   "execution_count": 29,
   "id": "d92b21f8-02e2-473d-b1ad-3b63ffc81f22",
   "metadata": {
    "tags": []
   },
   "outputs": [
    {
     "data": {
      "text/plain": [
       "27"
      ]
     },
     "execution_count": 29,
     "metadata": {},
     "output_type": "execute_result"
    }
   ],
   "source": [
    "len(f1_data)"
   ]
  },
  {
   "cell_type": "code",
   "execution_count": 47,
   "id": "a27cd127-a98d-4729-a089-6ee9a6e112eb",
   "metadata": {
    "tags": []
   },
   "outputs": [],
   "source": [
    "file1 = open('text_a.txt', 'r')\n",
    "file2 = open('text_b.txt', 'r')\n",
    "File3 = open('results.txt', 'w')\n",
    "\n",
    "for line1 in file1:\n",
    "    file2.seek(0)  # reset file2 pointer to beginning\n",
    "    for line2 in file2:\n",
    "        if line1 == line2:\n",
    "            File3.write(\"%s\\n\" %(line1))\n",
    "\n",
    "File3.close()\n",
    "file1.close()\n",
    "file2.close()"
   ]
  },
  {
   "cell_type": "code",
   "execution_count": 39,
   "id": "36986b1b-b616-476f-af59-8ed47fbfda35",
   "metadata": {
    "tags": []
   },
   "outputs": [
    {
     "name": "stdout",
     "output_type": "stream",
     "text": [
      "1. Dominique Henry  \n",
      "\n",
      "2. Lynda Rose  \n",
      "\n",
      "3. Tanya Rush  \n",
      "\n",
      "4. Lilly Horne  \n",
      "\n",
      "5. Georgina Ward  \n",
      "\n",
      "6. Yvonne Nash  \n",
      "\n",
      "7. Porter Mcfarland  \n",
      "\n",
      "8. Johnnie Edwards  \n",
      "\n",
      "9. Annmarie Graves  \n",
      "\n",
      "10. Blanche Robles  \n",
      "\n",
      "11. Marietta Gordon  \n",
      "\n",
      "12. Zack Stein  \n",
      "\n",
      "13. Henrietta Valenzuela  \n",
      "\n",
      "14. Arturo Singh  \n",
      "\n",
      "15. Tiffany Turner  \n",
      "\n",
      "16. Alexandra Walker  \n",
      "\n",
      "17. Shane Webster  \n",
      "\n",
      "18. Waldo Ayala  \n",
      "\n",
      "19. J. Horn  \n",
      "\n",
      "20. Jorge Hardin  \n",
      "\n",
      "21. Kirby Barton  \n",
      "\n",
      "22. Maryann Pacheco  \n",
      "\n",
      "23. Felton Escobar  \n",
      "\n",
      "24. Titus Randall  \n",
      "\n",
      "25. Deandre Burgess  \n",
      "\n",
      "26. Micheal Roy  \n",
      "\n",
      "27. Major Ritter   \n"
     ]
    }
   ],
   "source": [
    "file1 = open('text_a.txt', 'r')\n",
    "\n",
    "for line in file1:\n",
    "    print(line)\n",
    "    \n",
    "file1.close()"
   ]
  },
  {
   "cell_type": "code",
   "execution_count": 50,
   "id": "a2387e98-67c4-479a-ae03-76d3b48b6446",
   "metadata": {
    "tags": []
   },
   "outputs": [],
   "source": [
    "import difflib\n",
    "\n",
    "file1 = open('text_a.txt', 'r')\n",
    "file2 = open('text_b.txt', 'r')\n",
    "File3 = open('results.txt', 'w')\n",
    "\n",
    "diff = difflib.unified_diff(file1.readlines(), file2.readlines(), fromfile='text_a.txt', tofile='text_b.txt')\n",
    "\n",
    "for line in diff:\n",
    "    File3.write(line)\n",
    "\n",
    "File3.close()\n",
    "file1.close()\n",
    "file2.close()"
   ]
  },
  {
   "cell_type": "code",
   "execution_count": null,
   "id": "b6106b49-cec3-4926-b64b-d3e777da61a2",
   "metadata": {},
   "outputs": [],
   "source": []
  },
  {
   "cell_type": "code",
   "execution_count": null,
   "id": "02c141f3-2078-4136-833e-dd317c64bbf9",
   "metadata": {},
   "outputs": [],
   "source": []
  }
 ],
 "metadata": {
  "kernelspec": {
   "display_name": "Python 3 (ipykernel)",
   "language": "python",
   "name": "python3"
  },
  "language_info": {
   "codemirror_mode": {
    "name": "ipython",
    "version": 3
   },
   "file_extension": ".py",
   "mimetype": "text/x-python",
   "name": "python",
   "nbconvert_exporter": "python",
   "pygments_lexer": "ipython3",
   "version": "3.9.16"
  }
 },
 "nbformat": 4,
 "nbformat_minor": 5
}
