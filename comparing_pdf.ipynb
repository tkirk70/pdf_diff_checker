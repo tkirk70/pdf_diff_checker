{
 "cells": [
  {
   "cell_type": "code",
   "execution_count": 1,
   "id": "bc21953b-c964-43f0-8a77-80bceb6b510c",
   "metadata": {
    "tags": []
   },
   "outputs": [
    {
     "name": "stdout",
     "output_type": "stream",
     "text": [
      "1. Dominique Henry  \n",
      "2. Lynda Rose  \n",
      "3. Tanya Rush  \n",
      "4. Lilly Horne  \n",
      "5. Georgina Ward  \n",
      "6. Yvonne Nash  \n",
      "7. Porter Mcfarland  \n",
      "8. Johnnie Edwards  \n",
      "9. Annmarie Graves  \n",
      "10. Blanche Robles  \n",
      "11. Marietta Gordon  \n",
      "12. Zack Stein  \n",
      "13. Henrietta Valenzuela  \n",
      "14. Arturo Singh  \n",
      "15. Tiffany Turner  \n",
      "16. Alexandra Walker  \n",
      "17. Shane Webster  \n",
      "18. Waldo Ayala  \n",
      "19. J. Horn  \n",
      "20. Jorge Hardin  \n",
      "21. Kirby Barton  \n",
      "22. Maryann Pacheco  \n",
      "23. Felton Escobar  \n",
      "24. Titus Randall  \n",
      "25. Deandre Burgess  \n",
      "26. Micheal Roy  \n",
      "27. Major Ritter  \n"
     ]
    }
   ],
   "source": [
    "# importing required modules\n",
    "from PyPDF2 import PdfReader\n",
    "\n",
    "# creating a pdf reader object\n",
    "reader = PdfReader('pdf_a.pdf')\n",
    "\n",
    "# printing number of pages in pdf file\n",
    "# print(len(reader.pages))\n",
    "\n",
    "# getting a specific page from the pdf file\n",
    "page = reader.pages[0]\n",
    "\n",
    "# extracting text from page\n",
    "text = page.extract_text()\n",
    "text_a = text\n",
    "\n",
    "# splitting text into a list of words\n",
    "word_lista = text.split()\n",
    "\n",
    "print(text)"
   ]
  },
  {
   "cell_type": "code",
   "execution_count": 2,
   "id": "c0e97f79-efd4-4551-8041-59ed6b295f13",
   "metadata": {
    "tags": []
   },
   "outputs": [
    {
     "name": "stdout",
     "output_type": "stream",
     "text": [
      "1. Dominique Henry  \n",
      "2. Lynda Rose  \n",
      "3. Tanya Rush  \n",
      "4. Lilly Horne  \n",
      "5. Georgina Ward  \n",
      "6. Yvonne Nash  \n",
      "7. Porter Mcfarland  \n",
      "8. Johnnie Edwards  \n",
      "9. Annmarie Graves  \n",
      "10. Blanche Robles  \n",
      "11. Marietta Gordon  \n",
      "12. Zack Stein  \n",
      "13. Henrietta Valenzuela  \n",
      "14. Arturo Singh  \n",
      "15. Tiffany J. Turner  \n",
      "16. Alexandra Walker  \n",
      "17. Shane Webster  \n",
      "18. Waldo Ayala  \n",
      "19. Jeffrey Horn  \n",
      "20. Jorge Hardin  \n",
      "21. Kirby Barton  \n",
      "22. Maryann Pacheco  \n",
      "23. Felton Escobar  \n",
      "24. Titus Randall  \n",
      "25. Deandre Burgess  \n",
      "26. Micheal Roy  \n",
      "27. Major Ritter  \n"
     ]
    }
   ],
   "source": [
    "# importing required modules\n",
    "from PyPDF2 import PdfReader\n",
    "\n",
    "# creating a pdf reader object\n",
    "reader = PdfReader('pdf_b.pdf')\n",
    "\n",
    "# printing number of pages in pdf file\n",
    "# print(len(reader.pages))\n",
    "\n",
    "# getting a specific page from the pdf file\n",
    "page = reader.pages[0]\n",
    "\n",
    "# extracting text from page\n",
    "text = page.extract_text()\n",
    "text_b = text\n",
    "\n",
    "# splitting text into a list of words\n",
    "word_listb = text.split()\n",
    "\n",
    "print(text)"
   ]
  },
  {
   "cell_type": "code",
   "execution_count": 7,
   "id": "85019eb8-cb1e-48f1-96a9-23d661d7f342",
   "metadata": {},
   "outputs": [],
   "source": [
    "import PyPDF2\n",
    "\n",
    "# creating a pdf reader object\n",
    "reader = PyPDF2.PdfFileReader('pdf_b.pdf')\n",
    "\n",
    "# creating a text file\n",
    "with open('text_b.txt', 'w') as f:\n",
    "    # iterating through each page of the pdf file\n",
    "    for i in range(reader.getNumPages()):\n",
    "        # getting the page object\n",
    "        page = reader.getPage(i)\n",
    "        # extracting text from page\n",
    "        text = page.extractText()\n",
    "        # writing the text to the file\n",
    "        f.write(text)"
   ]
  },
  {
   "cell_type": "code",
   "execution_count": 8,
   "id": "09232561-895e-49f5-aa3b-db097918503f",
   "metadata": {},
   "outputs": [],
   "source": [
    "import PyPDF2\n",
    "\n",
    "# creating a pdf reader object\n",
    "reader = PyPDF2.PdfFileReader('pdf_a.pdf')\n",
    "\n",
    "# creating a text file\n",
    "with open('text_a.txt', 'w') as f:\n",
    "    # iterating through each page of the pdf file\n",
    "    for i in range(reader.getNumPages()):\n",
    "        # getting the page object\n",
    "        page = reader.getPage(i)\n",
    "        # extracting text from page\n",
    "        text = page.extractText()\n",
    "        # writing the text to the file\n",
    "        f.write(text)\n"
   ]
  },
  {
   "cell_type": "code",
   "execution_count": 9,
   "id": "0643e8c2-997a-4e8e-bbef-31590ef73ae9",
   "metadata": {},
   "outputs": [
    {
     "name": "stdout",
     "output_type": "stream",
     "text": [
      "Sleeping\n"
     ]
    }
   ],
   "source": [
    "import time\n",
    "print('Sleeping')\n",
    "time.sleep(1.7)"
   ]
  },
  {
   "cell_type": "code",
   "execution_count": 21,
   "id": "2943aa72-fcc8-4b18-b1c2-42783474616a",
   "metadata": {
    "tags": []
   },
   "outputs": [
    {
     "name": "stdout",
     "output_type": "stream",
     "text": [
      "False\n",
      "False\n"
     ]
    }
   ],
   "source": [
    "import filecmp\n",
    "\n",
    "f1 = 'text_a.txt'\n",
    "f2 = 'text_b.txt'\n",
    "\n",
    "# shallow comparison\n",
    "result = filecmp.cmp(f1, f2)\n",
    "print(result)\n",
    "# deep comparison\n",
    "result = filecmp.cmp(f1, f2, shallow=False)\n",
    "print(result)"
   ]
  },
  {
   "cell_type": "code",
   "execution_count": 11,
   "id": "f9d4ee22-02d9-4cae-931e-ef0525d0624a",
   "metadata": {
    "tags": []
   },
   "outputs": [
    {
     "data": {
      "text/plain": [
       "str"
      ]
     },
     "execution_count": 11,
     "metadata": {},
     "output_type": "execute_result"
    }
   ],
   "source": [
    "type(text_b)"
   ]
  },
  {
   "cell_type": "code",
   "execution_count": 50,
   "id": "a2387e98-67c4-479a-ae03-76d3b48b6446",
   "metadata": {
    "tags": []
   },
   "outputs": [],
   "source": [
    "import difflib\n",
    "\n",
    "file1 = open('text_a.txt', 'r')\n",
    "file2 = open('text_b.txt', 'r')\n",
    "File3 = open('results.txt', 'w')\n",
    "\n",
    "diff = difflib.unified_diff(file1.readlines(), file2.readlines(), fromfile='text_a.txt', tofile='text_b.txt')\n",
    "\n",
    "for line in diff:\n",
    "    File3.write(line)\n",
    "\n",
    "File3.close()\n",
    "file1.close()\n",
    "file2.close()"
   ]
  }
 ],
 "metadata": {
  "kernelspec": {
   "display_name": "Python 3 (ipykernel)",
   "language": "python",
   "name": "python3"
  },
  "language_info": {
   "codemirror_mode": {
    "name": "ipython",
    "version": 3
   },
   "file_extension": ".py",
   "mimetype": "text/x-python",
   "name": "python",
   "nbconvert_exporter": "python",
   "pygments_lexer": "ipython3",
   "version": "3.9.16"
  }
 },
 "nbformat": 4,
 "nbformat_minor": 5
}
